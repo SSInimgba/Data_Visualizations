{
  "nbformat": 4,
  "nbformat_minor": 0,
  "metadata": {
    "kernelspec": {
      "display_name": "Python 3",
      "language": "python",
      "name": "python3"
    },
    "language_info": {
      "codemirror_mode": {
        "name": "ipython",
        "version": 3
      },
      "file_extension": ".py",
      "mimetype": "text/x-python",
      "name": "python",
      "nbconvert_exporter": "python",
      "pygments_lexer": "ipython3",
      "version": "3.6.8"
    },
    "colab": {
      "name": "Oyo_State Voters EDA.ipynb",
      "provenance": [],
      "include_colab_link": true
    }
  },
  "cells": [
    {
      "cell_type": "markdown",
      "metadata": {
        "id": "view-in-github",
        "colab_type": "text"
      },
      "source": [
        "<a href=\"https://colab.research.google.com/github/SSInimgba/Data_Visualizations/blob/master/Oyo_State_Voters_EDA.ipynb\" target=\"_parent\"><img src=\"https://colab.research.google.com/assets/colab-badge.svg\" alt=\"Open In Colab\"/></a>"
      ]
    },
    {
      "cell_type": "code",
      "metadata": {
        "id": "fD1vxoTp4aKg",
        "colab_type": "code",
        "colab": {}
      },
      "source": [
        "import pandas as pd\n",
        "import numpy as np\n",
        "import matplotlib.pyplot as plt\n",
        "import seaborn as sns\n",
        "sns.set()\n"
      ],
      "execution_count": 0,
      "outputs": []
    },
    {
      "cell_type": "code",
      "metadata": {
        "id": "EHNRTpMe4aKn",
        "colab_type": "code",
        "colab": {}
      },
      "source": [
        "filename = 'OyoState_2015.csv'\n",
        "pd.set_option('display.max_colwidth', -1)\n",
        "df2015 = pd.read_csv(filename)\n",
        "\n",
        "filename = '2011_OyoVoterData.csv'\n",
        "pd.set_option('display.max_colwidth', -1)\n",
        "df2011 = pd.read_csv(filename)\n"
      ],
      "execution_count": 0,
      "outputs": []
    },
    {
      "cell_type": "code",
      "metadata": {
        "id": "h1BhmDUW4aKr",
        "colab_type": "code",
        "colab": {}
      },
      "source": [
        "df2015 = df2015.dropna(how = 'all')\n",
        "df2011 = df2011.dropna(how = 'all')"
      ],
      "execution_count": 0,
      "outputs": []
    },
    {
      "cell_type": "code",
      "metadata": {
        "id": "B2UB5NjK4aKv",
        "colab_type": "code",
        "colab": {},
        "outputId": "15dd33e6-9d8f-4ac1-f12d-9527f6950e36"
      },
      "source": [
        "df2015 = df2015.drop(columns=['Unnamed: 0'])\n",
        "df2015.head(5)"
      ],
      "execution_count": 0,
      "outputs": [
        {
          "output_type": "execute_result",
          "data": {
            "text/html": [
              "<div>\n",
              "<style scoped>\n",
              "    .dataframe tbody tr th:only-of-type {\n",
              "        vertical-align: middle;\n",
              "    }\n",
              "\n",
              "    .dataframe tbody tr th {\n",
              "        vertical-align: top;\n",
              "    }\n",
              "\n",
              "    .dataframe thead th {\n",
              "        text-align: right;\n",
              "    }\n",
              "</style>\n",
              "<table border=\"1\" class=\"dataframe\">\n",
              "  <thead>\n",
              "    <tr style=\"text-align: right;\">\n",
              "      <th></th>\n",
              "      <th>Local Government</th>\n",
              "      <th>ACCORD #Voters</th>\n",
              "      <th>APC #Voters</th>\n",
              "      <th>LP #Voters</th>\n",
              "      <th>PDP #Voters</th>\n",
              "      <th>SDP #Voters</th>\n",
              "      <th>Total # of Voters</th>\n",
              "      <th>AREA POPULATION(2006 CENSUS)</th>\n",
              "      <th>AREA POPULATION(2017 CENSUS)</th>\n",
              "      <th>HEADQUARTERS</th>\n",
              "      <th>DATE OFCREATION</th>\n",
              "      <th>TOTAL NOOF WARDS</th>\n",
              "      <th>LANDMASS(KM2)</th>\n",
              "    </tr>\n",
              "  </thead>\n",
              "  <tbody>\n",
              "    <tr>\n",
              "      <th>0</th>\n",
              "      <td>AFIJIO</td>\n",
              "      <td>Accord-4,590</td>\n",
              "      <td>APC-5,087</td>\n",
              "      <td>LP-3,743</td>\n",
              "      <td>PDP-1,735</td>\n",
              "      <td>SDP-433</td>\n",
              "      <td>NaN</td>\n",
              "      <td>134,173</td>\n",
              "      <td>185,700</td>\n",
              "      <td>Jobele</td>\n",
              "      <td>1989</td>\n",
              "      <td>10.0</td>\n",
              "      <td>800.000</td>\n",
              "    </tr>\n",
              "    <tr>\n",
              "      <th>1</th>\n",
              "      <td>AKINYELE</td>\n",
              "      <td>Accord-4,509</td>\n",
              "      <td>APC-5, 317</td>\n",
              "      <td>LP-3,842</td>\n",
              "      <td>PDP-3,373</td>\n",
              "      <td>SDP-776</td>\n",
              "      <td>NaN</td>\n",
              "      <td>211,359</td>\n",
              "      <td>297,600</td>\n",
              "      <td>Moniya</td>\n",
              "      <td>1976</td>\n",
              "      <td>12.0</td>\n",
              "      <td>575.000</td>\n",
              "    </tr>\n",
              "    <tr>\n",
              "      <th>2</th>\n",
              "      <td>ATIBA</td>\n",
              "      <td>Accord-3,734</td>\n",
              "      <td>APC-10,396</td>\n",
              "      <td>LP-7,656</td>\n",
              "      <td>PDP-1,396</td>\n",
              "      <td>SDP-587</td>\n",
              "      <td>NaN</td>\n",
              "      <td>169,702</td>\n",
              "      <td>236,400</td>\n",
              "      <td>Ofa-Meta</td>\n",
              "      <td>1996</td>\n",
              "      <td>10.0</td>\n",
              "      <td>219.753</td>\n",
              "    </tr>\n",
              "    <tr>\n",
              "      <th>3</th>\n",
              "      <td>ATISBO</td>\n",
              "      <td>Accord-3,257</td>\n",
              "      <td>APC-7,132</td>\n",
              "      <td>LP-2,862</td>\n",
              "      <td>PDP-2,339</td>\n",
              "      <td>SDP-1,156</td>\n",
              "      <td>NaN</td>\n",
              "      <td>110,792</td>\n",
              "      <td>154,500</td>\n",
              "      <td>Tede</td>\n",
              "      <td>1996</td>\n",
              "      <td>10.0</td>\n",
              "      <td>315.230</td>\n",
              "    </tr>\n",
              "    <tr>\n",
              "      <th>4</th>\n",
              "      <td>EGBEDA</td>\n",
              "      <td>Accord-1,5811</td>\n",
              "      <td>APC-13,495</td>\n",
              "      <td>LP-2,097</td>\n",
              "      <td>PDP-2,625</td>\n",
              "      <td>SDP-2,625</td>\n",
              "      <td>NaN</td>\n",
              "      <td>319,388</td>\n",
              "      <td>398,500</td>\n",
              "      <td>Egbeda</td>\n",
              "      <td>1989</td>\n",
              "      <td>11.0</td>\n",
              "      <td>410.000</td>\n",
              "    </tr>\n",
              "  </tbody>\n",
              "</table>\n",
              "</div>"
            ],
            "text/plain": [
              "  Local Government ACCORD #Voters APC #Voters LP #Voters PDP #Voters  \\\n",
              "0  AFIJIO           Accord-4,590   APC-5,087   LP-3,743   PDP-1,735    \n",
              "1  AKINYELE         Accord-4,509   APC-5, 317  LP-3,842   PDP-3,373    \n",
              "2  ATIBA            Accord-3,734   APC-10,396  LP-7,656   PDP-1,396    \n",
              "3  ATISBO           Accord-3,257   APC-7,132   LP-2,862   PDP-2,339    \n",
              "4  EGBEDA           Accord-1,5811  APC-13,495  LP-2,097   PDP-2,625    \n",
              "\n",
              "  SDP #Voters  Total # of Voters AREA POPULATION(2006 CENSUS)  \\\n",
              "0  SDP-433    NaN                 134,173                       \n",
              "1  SDP-776    NaN                 211,359                       \n",
              "2  SDP-587    NaN                 169,702                       \n",
              "3  SDP-1,156  NaN                 110,792                       \n",
              "4  SDP-2,625  NaN                 319,388                       \n",
              "\n",
              "  AREA POPULATION(2017 CENSUS) HEADQUARTERS DATE OFCREATION  TOTAL NOOF WARDS  \\\n",
              "0  185,700                      Jobele       1989            10.0               \n",
              "1  297,600                      Moniya       1976            12.0               \n",
              "2  236,400                      Ofa-Meta     1996            10.0               \n",
              "3  154,500                      Tede         1996            10.0               \n",
              "4  398,500                      Egbeda       1989            11.0               \n",
              "\n",
              "   LANDMASS(KM2)  \n",
              "0  800.000        \n",
              "1  575.000        \n",
              "2  219.753        \n",
              "3  315.230        \n",
              "4  410.000        "
            ]
          },
          "metadata": {
            "tags": []
          },
          "execution_count": 5
        }
      ]
    },
    {
      "cell_type": "code",
      "metadata": {
        "id": "wader6b64aK4",
        "colab_type": "code",
        "colab": {},
        "outputId": "1f0ff719-3a8b-41d5-ab4b-c3e0ebe7772c"
      },
      "source": [
        "df2011.head(5)"
      ],
      "execution_count": 0,
      "outputs": [
        {
          "output_type": "execute_result",
          "data": {
            "text/html": [
              "<div>\n",
              "<style scoped>\n",
              "    .dataframe tbody tr th:only-of-type {\n",
              "        vertical-align: middle;\n",
              "    }\n",
              "\n",
              "    .dataframe tbody tr th {\n",
              "        vertical-align: top;\n",
              "    }\n",
              "\n",
              "    .dataframe thead th {\n",
              "        text-align: right;\n",
              "    }\n",
              "</style>\n",
              "<table border=\"1\" class=\"dataframe\">\n",
              "  <thead>\n",
              "    <tr style=\"text-align: right;\">\n",
              "      <th></th>\n",
              "      <th>LOCAL GOVT</th>\n",
              "      <th>ACCORD #Voters</th>\n",
              "      <th>ACN #Voters</th>\n",
              "      <th>PDP #Voters</th>\n",
              "      <th>Total # of Voters</th>\n",
              "      <th>AREA POPULATION(2006 CENSUS)</th>\n",
              "      <th>AREA POPULATION(2017 CENSUS)</th>\n",
              "      <th>HEADQUARTERS</th>\n",
              "      <th>DATE OFCREATION</th>\n",
              "      <th>TOTAL NOOF WARDS</th>\n",
              "      <th>LANDMASS(KM2)</th>\n",
              "    </tr>\n",
              "  </thead>\n",
              "  <tbody>\n",
              "    <tr>\n",
              "      <th>0</th>\n",
              "      <td>AFIJIO</td>\n",
              "      <td>4,865</td>\n",
              "      <td>8,471</td>\n",
              "      <td>6,014</td>\n",
              "      <td>NaN</td>\n",
              "      <td>134,173</td>\n",
              "      <td>185,700</td>\n",
              "      <td>Jobele</td>\n",
              "      <td>1989</td>\n",
              "      <td>10.0</td>\n",
              "      <td>800.000</td>\n",
              "    </tr>\n",
              "    <tr>\n",
              "      <th>1</th>\n",
              "      <td>ATIBA</td>\n",
              "      <td>3,590</td>\n",
              "      <td>18,513</td>\n",
              "      <td>7,565</td>\n",
              "      <td>NaN</td>\n",
              "      <td>211,359</td>\n",
              "      <td>297,600</td>\n",
              "      <td>Moniya</td>\n",
              "      <td>1976</td>\n",
              "      <td>12.0</td>\n",
              "      <td>575.000</td>\n",
              "    </tr>\n",
              "    <tr>\n",
              "      <th>2</th>\n",
              "      <td>ATISBO</td>\n",
              "      <td>1,935</td>\n",
              "      <td>7,507</td>\n",
              "      <td>6,779</td>\n",
              "      <td>NaN</td>\n",
              "      <td>169,702</td>\n",
              "      <td>236,400</td>\n",
              "      <td>Ofa-Meta</td>\n",
              "      <td>1996</td>\n",
              "      <td>10.0</td>\n",
              "      <td>219.753</td>\n",
              "    </tr>\n",
              "    <tr>\n",
              "      <th>3</th>\n",
              "      <td>IBARAPA NORTH</td>\n",
              "      <td>3,539</td>\n",
              "      <td>6,602</td>\n",
              "      <td>8,884</td>\n",
              "      <td>NaN</td>\n",
              "      <td>110,792</td>\n",
              "      <td>154,500</td>\n",
              "      <td>Tede</td>\n",
              "      <td>1996</td>\n",
              "      <td>10.0</td>\n",
              "      <td>315.230</td>\n",
              "    </tr>\n",
              "    <tr>\n",
              "      <th>4</th>\n",
              "      <td>IBARAPA EAST</td>\n",
              "      <td>6,375</td>\n",
              "      <td>6,086</td>\n",
              "      <td>7,950</td>\n",
              "      <td>NaN</td>\n",
              "      <td>319,388</td>\n",
              "      <td>398,500</td>\n",
              "      <td>Egbeda</td>\n",
              "      <td>1989</td>\n",
              "      <td>11.0</td>\n",
              "      <td>410.000</td>\n",
              "    </tr>\n",
              "  </tbody>\n",
              "</table>\n",
              "</div>"
            ],
            "text/plain": [
              "      LOCAL GOVT ACCORD #Voters ACN #Voters PDP #Voters  Total # of Voters  \\\n",
              "0  AFIJIO         4,865          8,471       6,014      NaN                  \n",
              "1  ATIBA          3,590          18,513      7,565      NaN                  \n",
              "2  ATISBO         1,935          7,507       6,779      NaN                  \n",
              "3  IBARAPA NORTH  3,539          6,602       8,884      NaN                  \n",
              "4  IBARAPA EAST   6,375          6,086       7,950      NaN                  \n",
              "\n",
              "  AREA POPULATION(2006 CENSUS) AREA POPULATION(2017 CENSUS) HEADQUARTERS  \\\n",
              "0  134,173                      185,700                      Jobele        \n",
              "1  211,359                      297,600                      Moniya        \n",
              "2  169,702                      236,400                      Ofa-Meta      \n",
              "3  110,792                      154,500                      Tede          \n",
              "4  319,388                      398,500                      Egbeda        \n",
              "\n",
              "  DATE OFCREATION  TOTAL NOOF WARDS  LANDMASS(KM2)  \n",
              "0  1989            10.0              800.000        \n",
              "1  1976            12.0              575.000        \n",
              "2  1996            10.0              219.753        \n",
              "3  1996            10.0              315.230        \n",
              "4  1989            11.0              410.000        "
            ]
          },
          "metadata": {
            "tags": []
          },
          "execution_count": 6
        }
      ]
    },
    {
      "cell_type": "code",
      "metadata": {
        "id": "OJqWlXLZ4aLC",
        "colab_type": "code",
        "colab": {},
        "outputId": "4dcb68b5-262f-4315-a03c-ac1cbc2cc372"
      },
      "source": [
        "df2011.rename(columns={\"LOCAL GOVT\": \"Local Government\"}, inplace = True)\n",
        "df2011.columns"
      ],
      "execution_count": 0,
      "outputs": [
        {
          "output_type": "execute_result",
          "data": {
            "text/plain": [
              "Index(['Local Government', 'ACCORD #Voters', 'ACN #Voters', 'PDP #Voters',\n",
              "       'Total # of Voters', 'AREA POPULATION(2006 CENSUS)',\n",
              "       'AREA POPULATION(2017 CENSUS)', 'HEADQUARTERS', 'DATE OFCREATION',\n",
              "       'TOTAL NOOF WARDS', 'LANDMASS(KM2)'],\n",
              "      dtype='object')"
            ]
          },
          "metadata": {
            "tags": []
          },
          "execution_count": 8
        }
      ]
    },
    {
      "cell_type": "code",
      "metadata": {
        "id": "-j7X-DZ14aLI",
        "colab_type": "code",
        "colab": {},
        "outputId": "bfa76dc6-3e57-4989-d77e-3e0a67b0242a"
      },
      "source": [
        "print(\"2015 columns: \")\n",
        "print(\"-----------------------------\")\n",
        "print(df2015.columns)\n",
        "print(\"  \")\n",
        "print(\"2011 columns: \")\n",
        "print(\"---------------------------\")\n",
        "print(df2011.columns)"
      ],
      "execution_count": 0,
      "outputs": [
        {
          "output_type": "stream",
          "text": [
            "2015 columns: \n",
            "-----------------------------\n",
            "Index(['Local Government', 'ACCORD #Voters', 'APC #Voters', 'LP #Voters',\n",
            "       'PDP #Voters', 'SDP #Voters', 'Total # of Voters',\n",
            "       'AREA POPULATION(2006 CENSUS)', 'AREA POPULATION(2017 CENSUS)',\n",
            "       'HEADQUARTERS', 'DATE OFCREATION', 'TOTAL NOOF WARDS', 'LANDMASS(KM2)'],\n",
            "      dtype='object')\n",
            "  \n",
            "2011 columns: \n",
            "---------------------------\n",
            "Index(['Local Government', 'ACCORD #Voters', 'ACN #Voters', 'PDP #Voters',\n",
            "       'Total # of Voters', 'AREA POPULATION(2006 CENSUS)',\n",
            "       'AREA POPULATION(2017 CENSUS)', 'HEADQUARTERS', 'DATE OFCREATION',\n",
            "       'TOTAL NOOF WARDS', 'LANDMASS(KM2)'],\n",
            "      dtype='object')\n"
          ],
          "name": "stdout"
        }
      ]
    },
    {
      "cell_type": "markdown",
      "metadata": {
        "id": "hPtAOR7j4aLM",
        "colab_type": "text"
      },
      "source": [
        "We can see that they contain similar columns. Therefore we can carry out a comparison analysis"
      ]
    },
    {
      "cell_type": "markdown",
      "metadata": {
        "id": "LCV0JnFD4aLO",
        "colab_type": "text"
      },
      "source": [
        "# DATA CLEANING"
      ]
    },
    {
      "cell_type": "code",
      "metadata": {
        "id": "KQl8ZdwN4aLQ",
        "colab_type": "code",
        "colab": {},
        "outputId": "acad3586-38bf-4b0e-87c2-3eee79be3bcb"
      },
      "source": [
        "#Cleaning up the data\n",
        "#regex is a pain in the butt but pythex.org helps alot!\n",
        "df2015['ACCORD #Voters'] = df2015['ACCORD #Voters'].replace('Accord-', ' ', regex= True)#removes Accord\n",
        "df2015['APC #Voters'] = df2015['APC #Voters'].replace('APC-', ' ', regex= True)#removes APC\n",
        "df2015['LP #Voters'] = df2015['LP #Voters'].replace('LP-', ' ', regex= True)#removes LP\n",
        "df2015['PDP #Voters']= df2015['PDP #Voters'].replace('PDP-', ' ', regex= True)#removes PDP\n",
        "df2015['SDP #Voters']= df2015['SDP #Voters'].replace('SDP-', ' ', regex= True)#removes SDP\n",
        "\n",
        "\n",
        "\n",
        "df2015.head(5)"
      ],
      "execution_count": 0,
      "outputs": [
        {
          "output_type": "execute_result",
          "data": {
            "text/html": [
              "<div>\n",
              "<style scoped>\n",
              "    .dataframe tbody tr th:only-of-type {\n",
              "        vertical-align: middle;\n",
              "    }\n",
              "\n",
              "    .dataframe tbody tr th {\n",
              "        vertical-align: top;\n",
              "    }\n",
              "\n",
              "    .dataframe thead th {\n",
              "        text-align: right;\n",
              "    }\n",
              "</style>\n",
              "<table border=\"1\" class=\"dataframe\">\n",
              "  <thead>\n",
              "    <tr style=\"text-align: right;\">\n",
              "      <th></th>\n",
              "      <th>Local Government</th>\n",
              "      <th>ACCORD #Voters</th>\n",
              "      <th>APC #Voters</th>\n",
              "      <th>LP #Voters</th>\n",
              "      <th>PDP #Voters</th>\n",
              "      <th>SDP #Voters</th>\n",
              "      <th>Total # of Voters</th>\n",
              "      <th>AREA POPULATION(2006 CENSUS)</th>\n",
              "      <th>AREA POPULATION(2017 CENSUS)</th>\n",
              "      <th>HEADQUARTERS</th>\n",
              "      <th>DATE OFCREATION</th>\n",
              "      <th>TOTAL NOOF WARDS</th>\n",
              "      <th>LANDMASS(KM2)</th>\n",
              "    </tr>\n",
              "  </thead>\n",
              "  <tbody>\n",
              "    <tr>\n",
              "      <th>0</th>\n",
              "      <td>AFIJIO</td>\n",
              "      <td>4,590</td>\n",
              "      <td>5,087</td>\n",
              "      <td>3,743</td>\n",
              "      <td>1,735</td>\n",
              "      <td>433</td>\n",
              "      <td>NaN</td>\n",
              "      <td>134,173</td>\n",
              "      <td>185,700</td>\n",
              "      <td>Jobele</td>\n",
              "      <td>1989</td>\n",
              "      <td>10.0</td>\n",
              "      <td>800.000</td>\n",
              "    </tr>\n",
              "    <tr>\n",
              "      <th>1</th>\n",
              "      <td>AKINYELE</td>\n",
              "      <td>4,509</td>\n",
              "      <td>5, 317</td>\n",
              "      <td>3,842</td>\n",
              "      <td>3,373</td>\n",
              "      <td>776</td>\n",
              "      <td>NaN</td>\n",
              "      <td>211,359</td>\n",
              "      <td>297,600</td>\n",
              "      <td>Moniya</td>\n",
              "      <td>1976</td>\n",
              "      <td>12.0</td>\n",
              "      <td>575.000</td>\n",
              "    </tr>\n",
              "    <tr>\n",
              "      <th>2</th>\n",
              "      <td>ATIBA</td>\n",
              "      <td>3,734</td>\n",
              "      <td>10,396</td>\n",
              "      <td>7,656</td>\n",
              "      <td>1,396</td>\n",
              "      <td>587</td>\n",
              "      <td>NaN</td>\n",
              "      <td>169,702</td>\n",
              "      <td>236,400</td>\n",
              "      <td>Ofa-Meta</td>\n",
              "      <td>1996</td>\n",
              "      <td>10.0</td>\n",
              "      <td>219.753</td>\n",
              "    </tr>\n",
              "    <tr>\n",
              "      <th>3</th>\n",
              "      <td>ATISBO</td>\n",
              "      <td>3,257</td>\n",
              "      <td>7,132</td>\n",
              "      <td>2,862</td>\n",
              "      <td>2,339</td>\n",
              "      <td>1,156</td>\n",
              "      <td>NaN</td>\n",
              "      <td>110,792</td>\n",
              "      <td>154,500</td>\n",
              "      <td>Tede</td>\n",
              "      <td>1996</td>\n",
              "      <td>10.0</td>\n",
              "      <td>315.230</td>\n",
              "    </tr>\n",
              "    <tr>\n",
              "      <th>4</th>\n",
              "      <td>EGBEDA</td>\n",
              "      <td>1,5811</td>\n",
              "      <td>13,495</td>\n",
              "      <td>2,097</td>\n",
              "      <td>2,625</td>\n",
              "      <td>2,625</td>\n",
              "      <td>NaN</td>\n",
              "      <td>319,388</td>\n",
              "      <td>398,500</td>\n",
              "      <td>Egbeda</td>\n",
              "      <td>1989</td>\n",
              "      <td>11.0</td>\n",
              "      <td>410.000</td>\n",
              "    </tr>\n",
              "  </tbody>\n",
              "</table>\n",
              "</div>"
            ],
            "text/plain": [
              "  Local Government ACCORD #Voters APC #Voters LP #Voters PDP #Voters  \\\n",
              "0  AFIJIO            4,590          5,087       3,743      1,735       \n",
              "1  AKINYELE          4,509          5, 317      3,842      3,373       \n",
              "2  ATIBA             3,734          10,396      7,656      1,396       \n",
              "3  ATISBO            3,257          7,132       2,862      2,339       \n",
              "4  EGBEDA            1,5811         13,495      2,097      2,625       \n",
              "\n",
              "  SDP #Voters  Total # of Voters AREA POPULATION(2006 CENSUS)  \\\n",
              "0   433       NaN                 134,173                       \n",
              "1   776       NaN                 211,359                       \n",
              "2   587       NaN                 169,702                       \n",
              "3   1,156     NaN                 110,792                       \n",
              "4   2,625     NaN                 319,388                       \n",
              "\n",
              "  AREA POPULATION(2017 CENSUS) HEADQUARTERS DATE OFCREATION  TOTAL NOOF WARDS  \\\n",
              "0  185,700                      Jobele       1989            10.0               \n",
              "1  297,600                      Moniya       1976            12.0               \n",
              "2  236,400                      Ofa-Meta     1996            10.0               \n",
              "3  154,500                      Tede         1996            10.0               \n",
              "4  398,500                      Egbeda       1989            11.0               \n",
              "\n",
              "   LANDMASS(KM2)  \n",
              "0  800.000        \n",
              "1  575.000        \n",
              "2  219.753        \n",
              "3  315.230        \n",
              "4  410.000        "
            ]
          },
          "metadata": {
            "tags": []
          },
          "execution_count": 10
        }
      ]
    },
    {
      "cell_type": "code",
      "metadata": {
        "scrolled": true,
        "id": "5lN2gUoG4aLT",
        "colab_type": "code",
        "colab": {},
        "outputId": "bff8d926-51db-4b54-c70e-7b5fe9c145cc"
      },
      "source": [
        "print(\"  \")\n",
        "print(\"2015: \")\n",
        "print(\"-----------------------------\")\n",
        "print(df2015.dtypes)\n",
        "print(\"  \")\n",
        "print(\"2011: \")\n",
        "print(\"---------------------------\")\n",
        "print(df2011.dtypes)"
      ],
      "execution_count": 0,
      "outputs": [
        {
          "output_type": "stream",
          "text": [
            "  \n",
            "2015: \n",
            "-----------------------------\n",
            "Local Government                object \n",
            "ACCORD #Voters                  object \n",
            "APC #Voters                     object \n",
            "LP #Voters                      object \n",
            "PDP #Voters                     object \n",
            "SDP #Voters                     object \n",
            "Total # of Voters               float64\n",
            "AREA POPULATION(2006 CENSUS)    object \n",
            "AREA POPULATION(2017 CENSUS)    object \n",
            "HEADQUARTERS                    object \n",
            "DATE OFCREATION                 object \n",
            "TOTAL NOOF WARDS                float64\n",
            "LANDMASS(KM2)                   float64\n",
            "dtype: object\n",
            "  \n",
            "2011: \n",
            "---------------------------\n",
            "Local Government                object \n",
            "ACCORD #Voters                  object \n",
            "ACN #Voters                     object \n",
            "PDP #Voters                     object \n",
            "Total # of Voters               float64\n",
            "AREA POPULATION(2006 CENSUS)    object \n",
            "AREA POPULATION(2017 CENSUS)    object \n",
            "HEADQUARTERS                    object \n",
            "DATE OFCREATION                 object \n",
            "TOTAL NOOF WARDS                float64\n",
            "LANDMASS(KM2)                   float64\n",
            "dtype: object\n"
          ],
          "name": "stdout"
        }
      ]
    },
    {
      "cell_type": "markdown",
      "metadata": {
        "id": "-XJq-ZOB4aLY",
        "colab_type": "text"
      },
      "source": [
        "We can see that columns which should have integer data types are storing them as string objects, so we need to change that"
      ]
    },
    {
      "cell_type": "code",
      "metadata": {
        "id": "EYjNFZLe4aLa",
        "colab_type": "code",
        "colab": {},
        "outputId": "0110eab3-4757-4fd6-a2d1-1cf32fbd13ac"
      },
      "source": [
        "columns = ['ACCORD #Voters', 'APC #Voters', 'LP #Voters',\n",
        "       'PDP #Voters', 'SDP #Voters','ACN #Voters',\n",
        "       'AREA POPULATION(2006 CENSUS)', 'AREA POPULATION(2017 CENSUS)',\n",
        "       'HEADQUARTERS'] #2011 and 2015 columns\n",
        "columns"
      ],
      "execution_count": 0,
      "outputs": [
        {
          "output_type": "execute_result",
          "data": {
            "text/plain": [
              "['ACCORD #Voters',\n",
              " 'APC #Voters',\n",
              " 'LP #Voters',\n",
              " 'PDP #Voters',\n",
              " 'SDP #Voters',\n",
              " 'ACN #Voters',\n",
              " 'AREA POPULATION(2006 CENSUS)',\n",
              " 'AREA POPULATION(2017 CENSUS)',\n",
              " 'HEADQUARTERS']"
            ]
          },
          "metadata": {
            "tags": []
          },
          "execution_count": 12
        }
      ]
    },
    {
      "cell_type": "code",
      "metadata": {
        "id": "MKhilZbQ4aLe",
        "colab_type": "code",
        "colab": {}
      },
      "source": [
        "#Cleaning up the data\n",
        "#regex is a pain in the b**t but pythex.org helps alot!\n",
        "\n",
        "for col in columns:\n",
        "    if col in df2015.columns:\n",
        "        df2015[col] = df2015[col].str.replace(',','', regex = True)\n",
        "        df2015[col] = df2015[col].str.replace(' ','', regex = True)\n",
        "        df2015[col] = df2015[col].str.strip()\n",
        "    if col in df2011.columns:\n",
        "        df2011[col] = df2011[col].replace(',','',regex= True)\n",
        "        df2011[col] = df2011[col].replace('','0',regex= True)\n",
        "        "
      ],
      "execution_count": 0,
      "outputs": []
    },
    {
      "cell_type": "code",
      "metadata": {
        "id": "I6421Ngx4aLj",
        "colab_type": "code",
        "colab": {}
      },
      "source": [
        "df2011.iloc[32,1:4] = df2011.iloc[32,1:4].replace('AWAITING',0) #fix a row in the 2011 dataset"
      ],
      "execution_count": 0,
      "outputs": []
    },
    {
      "cell_type": "code",
      "metadata": {
        "id": "5kuaeztT4aLn",
        "colab_type": "code",
        "colab": {},
        "outputId": "37ebe17b-144c-4a31-b095-cf52a0abdea4"
      },
      "source": [
        "columns = ['ACCORD #Voters','ACN #Voters', 'APC #Voters','LP #Voters', 'PDP #Voters', 'SDP #Voters',\n",
        "       'AREA POPULATION(2006 CENSUS)', 'AREA POPULATION(2017 CENSUS)','TOTAL NOOF WARDS']\n",
        "\n",
        "for col in columns:\n",
        "    if col in df2015.columns:\n",
        "        df2015[col] = df2015[col].astype(int)\n",
        "    if col in df2011.columns:\n",
        "        df2011[col] = df2011[col].astype(int)\n",
        "    \n",
        "print(\"2015 columns: \")\n",
        "print(\"-----------------------------\")\n",
        "print(df2015.dtypes)\n",
        "print(\"  \")\n",
        "print(\"2011 columns: \")\n",
        "print(\"---------------------------\")\n",
        "print(df2011.dtypes)"
      ],
      "execution_count": 0,
      "outputs": [
        {
          "output_type": "stream",
          "text": [
            "2015 columns: \n",
            "-----------------------------\n",
            "Local Government                object \n",
            "ACCORD #Voters                  int64  \n",
            "APC #Voters                     int64  \n",
            "LP #Voters                      int64  \n",
            "PDP #Voters                     int64  \n",
            "SDP #Voters                     int64  \n",
            "Total # of Voters               float64\n",
            "AREA POPULATION(2006 CENSUS)    int64  \n",
            "AREA POPULATION(2017 CENSUS)    int64  \n",
            "HEADQUARTERS                    object \n",
            "DATE OFCREATION                 object \n",
            "TOTAL NOOF WARDS                int64  \n",
            "LANDMASS(KM2)                   float64\n",
            "dtype: object\n",
            "  \n",
            "2011 columns: \n",
            "---------------------------\n",
            "Local Government                object \n",
            "ACCORD #Voters                  int64  \n",
            "ACN #Voters                     int64  \n",
            "PDP #Voters                     int64  \n",
            "Total # of Voters               float64\n",
            "AREA POPULATION(2006 CENSUS)    int64  \n",
            "AREA POPULATION(2017 CENSUS)    int64  \n",
            "HEADQUARTERS                    object \n",
            "DATE OFCREATION                 object \n",
            "TOTAL NOOF WARDS                int64  \n",
            "LANDMASS(KM2)                   float64\n",
            "dtype: object\n"
          ],
          "name": "stdout"
        }
      ]
    },
    {
      "cell_type": "markdown",
      "metadata": {
        "id": "r3NzMhh54aLs",
        "colab_type": "text"
      },
      "source": [
        "## Calculate the Total number of Voters"
      ]
    },
    {
      "cell_type": "code",
      "metadata": {
        "id": "WQ7Had1a4aLt",
        "colab_type": "code",
        "colab": {},
        "outputId": "87bb0a3e-20d6-4e2c-e2ce-2b189427839f"
      },
      "source": [
        "\n",
        "df2015['Total # of Voters'] = df2015['ACCORD #Voters'] + df2015['APC #Voters'] + df2015['LP #Voters'] + df2015['PDP #Voters']+ df2015['SDP #Voters']\n",
        "\n",
        "df2015.head(5)"
      ],
      "execution_count": 0,
      "outputs": [
        {
          "output_type": "execute_result",
          "data": {
            "text/html": [
              "<div>\n",
              "<style scoped>\n",
              "    .dataframe tbody tr th:only-of-type {\n",
              "        vertical-align: middle;\n",
              "    }\n",
              "\n",
              "    .dataframe tbody tr th {\n",
              "        vertical-align: top;\n",
              "    }\n",
              "\n",
              "    .dataframe thead th {\n",
              "        text-align: right;\n",
              "    }\n",
              "</style>\n",
              "<table border=\"1\" class=\"dataframe\">\n",
              "  <thead>\n",
              "    <tr style=\"text-align: right;\">\n",
              "      <th></th>\n",
              "      <th>Local Government</th>\n",
              "      <th>ACCORD #Voters</th>\n",
              "      <th>APC #Voters</th>\n",
              "      <th>LP #Voters</th>\n",
              "      <th>PDP #Voters</th>\n",
              "      <th>SDP #Voters</th>\n",
              "      <th>Total # of Voters</th>\n",
              "      <th>AREA POPULATION(2006 CENSUS)</th>\n",
              "      <th>AREA POPULATION(2017 CENSUS)</th>\n",
              "      <th>HEADQUARTERS</th>\n",
              "      <th>DATE OFCREATION</th>\n",
              "      <th>TOTAL NOOF WARDS</th>\n",
              "      <th>LANDMASS(KM2)</th>\n",
              "    </tr>\n",
              "  </thead>\n",
              "  <tbody>\n",
              "    <tr>\n",
              "      <th>0</th>\n",
              "      <td>AFIJIO</td>\n",
              "      <td>4590</td>\n",
              "      <td>5087</td>\n",
              "      <td>3743</td>\n",
              "      <td>1735</td>\n",
              "      <td>433</td>\n",
              "      <td>15588</td>\n",
              "      <td>134173</td>\n",
              "      <td>185700</td>\n",
              "      <td>Jobele</td>\n",
              "      <td>1989</td>\n",
              "      <td>10</td>\n",
              "      <td>800.000</td>\n",
              "    </tr>\n",
              "    <tr>\n",
              "      <th>1</th>\n",
              "      <td>AKINYELE</td>\n",
              "      <td>4509</td>\n",
              "      <td>5317</td>\n",
              "      <td>3842</td>\n",
              "      <td>3373</td>\n",
              "      <td>776</td>\n",
              "      <td>17817</td>\n",
              "      <td>211359</td>\n",
              "      <td>297600</td>\n",
              "      <td>Moniya</td>\n",
              "      <td>1976</td>\n",
              "      <td>12</td>\n",
              "      <td>575.000</td>\n",
              "    </tr>\n",
              "    <tr>\n",
              "      <th>2</th>\n",
              "      <td>ATIBA</td>\n",
              "      <td>3734</td>\n",
              "      <td>10396</td>\n",
              "      <td>7656</td>\n",
              "      <td>1396</td>\n",
              "      <td>587</td>\n",
              "      <td>23769</td>\n",
              "      <td>169702</td>\n",
              "      <td>236400</td>\n",
              "      <td>Ofa-Meta</td>\n",
              "      <td>1996</td>\n",
              "      <td>10</td>\n",
              "      <td>219.753</td>\n",
              "    </tr>\n",
              "    <tr>\n",
              "      <th>3</th>\n",
              "      <td>ATISBO</td>\n",
              "      <td>3257</td>\n",
              "      <td>7132</td>\n",
              "      <td>2862</td>\n",
              "      <td>2339</td>\n",
              "      <td>1156</td>\n",
              "      <td>16746</td>\n",
              "      <td>110792</td>\n",
              "      <td>154500</td>\n",
              "      <td>Tede</td>\n",
              "      <td>1996</td>\n",
              "      <td>10</td>\n",
              "      <td>315.230</td>\n",
              "    </tr>\n",
              "    <tr>\n",
              "      <th>4</th>\n",
              "      <td>EGBEDA</td>\n",
              "      <td>15811</td>\n",
              "      <td>13495</td>\n",
              "      <td>2097</td>\n",
              "      <td>2625</td>\n",
              "      <td>2625</td>\n",
              "      <td>36653</td>\n",
              "      <td>319388</td>\n",
              "      <td>398500</td>\n",
              "      <td>Egbeda</td>\n",
              "      <td>1989</td>\n",
              "      <td>11</td>\n",
              "      <td>410.000</td>\n",
              "    </tr>\n",
              "  </tbody>\n",
              "</table>\n",
              "</div>"
            ],
            "text/plain": [
              "  Local Government  ACCORD #Voters  APC #Voters  LP #Voters  PDP #Voters  \\\n",
              "0  AFIJIO           4590            5087         3743        1735          \n",
              "1  AKINYELE         4509            5317         3842        3373          \n",
              "2  ATIBA            3734            10396        7656        1396          \n",
              "3  ATISBO           3257            7132         2862        2339          \n",
              "4  EGBEDA           15811           13495        2097        2625          \n",
              "\n",
              "   SDP #Voters  Total # of Voters  AREA POPULATION(2006 CENSUS)  \\\n",
              "0  433          15588              134173                         \n",
              "1  776          17817              211359                         \n",
              "2  587          23769              169702                         \n",
              "3  1156         16746              110792                         \n",
              "4  2625         36653              319388                         \n",
              "\n",
              "   AREA POPULATION(2017 CENSUS) HEADQUARTERS DATE OFCREATION  \\\n",
              "0  185700                        Jobele       1989             \n",
              "1  297600                        Moniya       1976             \n",
              "2  236400                        Ofa-Meta     1996             \n",
              "3  154500                        Tede         1996             \n",
              "4  398500                        Egbeda       1989             \n",
              "\n",
              "   TOTAL NOOF WARDS  LANDMASS(KM2)  \n",
              "0  10                800.000        \n",
              "1  12                575.000        \n",
              "2  10                219.753        \n",
              "3  10                315.230        \n",
              "4  11                410.000        "
            ]
          },
          "metadata": {
            "tags": []
          },
          "execution_count": 16
        }
      ]
    },
    {
      "cell_type": "code",
      "metadata": {
        "id": "HCb9yoih4aLw",
        "colab_type": "code",
        "colab": {},
        "outputId": "b3fab295-70ff-4e4f-f5b4-9792c9ca4d82"
      },
      "source": [
        "df2011['Total # of Voters'] = df2011['ACCORD #Voters'] + df2011['ACN #Voters'] + df2011['PDP #Voters']\n",
        "df2011.head(5)"
      ],
      "execution_count": 0,
      "outputs": [
        {
          "output_type": "execute_result",
          "data": {
            "text/html": [
              "<div>\n",
              "<style scoped>\n",
              "    .dataframe tbody tr th:only-of-type {\n",
              "        vertical-align: middle;\n",
              "    }\n",
              "\n",
              "    .dataframe tbody tr th {\n",
              "        vertical-align: top;\n",
              "    }\n",
              "\n",
              "    .dataframe thead th {\n",
              "        text-align: right;\n",
              "    }\n",
              "</style>\n",
              "<table border=\"1\" class=\"dataframe\">\n",
              "  <thead>\n",
              "    <tr style=\"text-align: right;\">\n",
              "      <th></th>\n",
              "      <th>Local Government</th>\n",
              "      <th>ACCORD #Voters</th>\n",
              "      <th>ACN #Voters</th>\n",
              "      <th>PDP #Voters</th>\n",
              "      <th>Total # of Voters</th>\n",
              "      <th>AREA POPULATION(2006 CENSUS)</th>\n",
              "      <th>AREA POPULATION(2017 CENSUS)</th>\n",
              "      <th>HEADQUARTERS</th>\n",
              "      <th>DATE OFCREATION</th>\n",
              "      <th>TOTAL NOOF WARDS</th>\n",
              "      <th>LANDMASS(KM2)</th>\n",
              "    </tr>\n",
              "  </thead>\n",
              "  <tbody>\n",
              "    <tr>\n",
              "      <th>0</th>\n",
              "      <td>AFIJIO</td>\n",
              "      <td>4865</td>\n",
              "      <td>8471</td>\n",
              "      <td>6014</td>\n",
              "      <td>19350</td>\n",
              "      <td>134173</td>\n",
              "      <td>185700</td>\n",
              "      <td>Jobele</td>\n",
              "      <td>1989</td>\n",
              "      <td>10</td>\n",
              "      <td>800.000</td>\n",
              "    </tr>\n",
              "    <tr>\n",
              "      <th>1</th>\n",
              "      <td>ATIBA</td>\n",
              "      <td>3590</td>\n",
              "      <td>18513</td>\n",
              "      <td>7565</td>\n",
              "      <td>29668</td>\n",
              "      <td>211359</td>\n",
              "      <td>297600</td>\n",
              "      <td>Moniya</td>\n",
              "      <td>1976</td>\n",
              "      <td>12</td>\n",
              "      <td>575.000</td>\n",
              "    </tr>\n",
              "    <tr>\n",
              "      <th>2</th>\n",
              "      <td>ATISBO</td>\n",
              "      <td>1935</td>\n",
              "      <td>7507</td>\n",
              "      <td>6779</td>\n",
              "      <td>16221</td>\n",
              "      <td>169702</td>\n",
              "      <td>236400</td>\n",
              "      <td>Ofa-Meta</td>\n",
              "      <td>1996</td>\n",
              "      <td>10</td>\n",
              "      <td>219.753</td>\n",
              "    </tr>\n",
              "    <tr>\n",
              "      <th>3</th>\n",
              "      <td>IBARAPA NORTH</td>\n",
              "      <td>3539</td>\n",
              "      <td>6602</td>\n",
              "      <td>8884</td>\n",
              "      <td>19025</td>\n",
              "      <td>110792</td>\n",
              "      <td>154500</td>\n",
              "      <td>Tede</td>\n",
              "      <td>1996</td>\n",
              "      <td>10</td>\n",
              "      <td>315.230</td>\n",
              "    </tr>\n",
              "    <tr>\n",
              "      <th>4</th>\n",
              "      <td>IBARAPA EAST</td>\n",
              "      <td>6375</td>\n",
              "      <td>6086</td>\n",
              "      <td>7950</td>\n",
              "      <td>20411</td>\n",
              "      <td>319388</td>\n",
              "      <td>398500</td>\n",
              "      <td>Egbeda</td>\n",
              "      <td>1989</td>\n",
              "      <td>11</td>\n",
              "      <td>410.000</td>\n",
              "    </tr>\n",
              "  </tbody>\n",
              "</table>\n",
              "</div>"
            ],
            "text/plain": [
              "  Local Government  ACCORD #Voters  ACN #Voters  PDP #Voters  \\\n",
              "0  AFIJIO           4865            8471         6014          \n",
              "1  ATIBA            3590            18513        7565          \n",
              "2  ATISBO           1935            7507         6779          \n",
              "3  IBARAPA NORTH    3539            6602         8884          \n",
              "4  IBARAPA EAST     6375            6086         7950          \n",
              "\n",
              "   Total # of Voters  AREA POPULATION(2006 CENSUS)  \\\n",
              "0  19350              134173                         \n",
              "1  29668              211359                         \n",
              "2  16221              169702                         \n",
              "3  19025              110792                         \n",
              "4  20411              319388                         \n",
              "\n",
              "   AREA POPULATION(2017 CENSUS) HEADQUARTERS DATE OFCREATION  \\\n",
              "0  185700                        Jobele       1989             \n",
              "1  297600                        Moniya       1976             \n",
              "2  236400                        Ofa-Meta     1996             \n",
              "3  154500                        Tede         1996             \n",
              "4  398500                        Egbeda       1989             \n",
              "\n",
              "   TOTAL NOOF WARDS  LANDMASS(KM2)  \n",
              "0  10                800.000        \n",
              "1  12                575.000        \n",
              "2  10                219.753        \n",
              "3  10                315.230        \n",
              "4  11                410.000        "
            ]
          },
          "metadata": {
            "tags": []
          },
          "execution_count": 17
        }
      ]
    },
    {
      "cell_type": "markdown",
      "metadata": {
        "id": "HxS3fsIM4aL0",
        "colab_type": "text"
      },
      "source": [
        "# DATA PREPROCESSING"
      ]
    },
    {
      "cell_type": "code",
      "metadata": {
        "id": "XqdY4kFw4aL0",
        "colab_type": "code",
        "colab": {},
        "outputId": "f139b8f2-844f-42f4-9df3-20195fc774ff"
      },
      "source": [
        "print(len(df2011['Local Government'].unique()))\n",
        "df2011['Local Government'].unique()"
      ],
      "execution_count": 0,
      "outputs": [
        {
          "output_type": "stream",
          "text": [
            "33\n"
          ],
          "name": "stdout"
        },
        {
          "output_type": "execute_result",
          "data": {
            "text/plain": [
              "array(['AFIJIO', 'ATIBA', 'ATISBO', 'IBARAPA NORTH', 'IBARAPA EAST',\n",
              "       'IBARAPA CENTRAL', 'OLUYOLE', 'SAKI EAST', 'SAKI WEST', 'ORELOPE',\n",
              "       'ORIRE', 'IBADAN NORTH', 'IDO', 'OYO EAST', 'OYO WEST',\n",
              "       'IBADAN NORTH/EAST', 'ITESIWAJU', 'ISEYIN', 'OGBOMOSO SOUTH',\n",
              "       'LAGELU', 'KAJOLA', 'AKINYELE', 'IREPO', 'OLORUNSOGO', 'SURULERE',\n",
              "       'OGO OLUWA', 'ONA ARA', 'IBADAN NORTH/WEST', 'IBADAN SOUTH-EAST',\n",
              "       'IWAJOWA', 'EGBEDA', 'OGBOMOSO NORTH', 'IBADAN SOUTH-WEST'],\n",
              "      dtype=object)"
            ]
          },
          "metadata": {
            "tags": []
          },
          "execution_count": 18
        }
      ]
    },
    {
      "cell_type": "code",
      "metadata": {
        "id": "cVsy-GkN4aL6",
        "colab_type": "code",
        "colab": {},
        "outputId": "8e112351-5042-4d7a-ad08-7ec704fd140a"
      },
      "source": [
        "print(len(df2015['Local Government'].unique()))\n",
        "df2015['Local Government'].unique()"
      ],
      "execution_count": 0,
      "outputs": [
        {
          "output_type": "stream",
          "text": [
            "33\n"
          ],
          "name": "stdout"
        },
        {
          "output_type": "execute_result",
          "data": {
            "text/plain": [
              "array(['AFIJIO', 'AKINYELE', 'ATIBA', 'ATISBO', 'EGBEDA', 'IBADAN NORTH',\n",
              "       'IBADAN NORTH EAST', 'IBADAN NORTH WEST', 'IBADAN SOUTH EAST',\n",
              "       'IBADAN SOUTH WEST', 'IBARAPA CENTRAL', 'IBARAPA EAST',\n",
              "       'IBARAPA NORTH', 'IDO', 'IREPO', 'ISEYIN', 'ITESIWAJU', 'IWAJOWA',\n",
              "       'KAJOLA', 'LAGELU', 'OGBOMOSO NORTH', 'OGBOMOSO SOUTH',\n",
              "       'OGO OLUWA', 'OLORUNSOGO', 'OLUYOLE', 'ONA ARA', 'OORELOPE',\n",
              "       'ORIIRE', 'OYO EAST', 'OYO WEST', 'SAKI EAST', 'SAKI WEST',\n",
              "       'SURULERE'], dtype=object)"
            ]
          },
          "metadata": {
            "tags": []
          },
          "execution_count": 19
        }
      ]
    },
    {
      "cell_type": "markdown",
      "metadata": {
        "id": "QKntGu3D4aL-",
        "colab_type": "text"
      },
      "source": [
        "## Creating Geo-Zones"
      ]
    },
    {
      "cell_type": "code",
      "metadata": {
        "id": "eyxy8r5l4aL_",
        "colab_type": "code",
        "colab": {}
      },
      "source": [
        "central_values = ['AFIJIO', 'AKINYELE', 'EGBEDA',\n",
        "                  'OGO OLUWA','SURULERE','LAGELU',\n",
        "                  'OLUYOLE','ONA ARA', 'OYO EAST', 'OYO WEST','ATIBA']\n",
        "\n",
        "\n",
        "northern_values = ['SAKI EAST', 'SAKI WEST','ATISBO',\n",
        "                   'IREPO','OLORUNSOGO', 'KAJOLA', 'IWAJOWA',\n",
        "                  'OGBOMOSO NORTH', 'OGBOMOSO SOUTH',\n",
        "                   'ISEYIN','OORELOPE','ORIIRE','ITESIWAJU']\n",
        "\n",
        "southern_values = ['IBADAN NORTH','IBADAN NORTH EAST', \n",
        "                   'IBADAN NORTH WEST', 'IBADAN SOUTH EAST','IBADAN SOUTH WEST', \n",
        "                   'IBARAPA CENTRAL', 'IBARAPA EAST','IBARAPA NORTH', 'IDO']\n",
        "\n",
        "\n"
      ],
      "execution_count": 0,
      "outputs": []
    },
    {
      "cell_type": "code",
      "metadata": {
        "id": "aSAfeq6n4aMC",
        "colab_type": "code",
        "colab": {}
      },
      "source": [
        "zone1 = ['EGBEDA', 'IBADAN NORTH', 'AKINYELE','IBADAN NORTH EAST', \n",
        "                   'IBADAN NORTH WEST', 'IBADAN SOUTH EAST','IBADAN SOUTH WEST','IDO','LAGELU','OLUYOLE','ONA ARA']\n",
        "\n",
        "zone2 = ['ATISBO','OORELOPE','ISEYIN','ITESIWAJU', \n",
        "         'KAJOLA',  'IREPO','OLORUNSOGO','IWAJOWA','SAKI EAST', 'SAKI WEST']\n",
        "zone3 = ['OGBOMOSO NORTH', 'OGBOMOSO SOUTH','OGO OLUWA','SURULERE','ORIIRE']\n",
        "\n",
        "zone4 = ['AFIJIO','OYO EAST', 'OYO WEST','ATIBA']\n",
        "\n",
        "zone5 = ['IBARAPA CENTRAL', 'IBARAPA EAST','IBARAPA NORTH']"
      ],
      "execution_count": 0,
      "outputs": []
    },
    {
      "cell_type": "code",
      "metadata": {
        "id": "e34QAk734aMQ",
        "colab_type": "code",
        "colab": {}
      },
      "source": [
        "conditions1 = [(df2015['Local Government'].isin(zone1)),\n",
        "               (df2015['Local Government'].isin(zone2)),\n",
        "                (df2015['Local Government'].isin(zone3)),\n",
        "             (df2015['Local Government'].isin(zone4)),\n",
        "               (df2015['Local Government'].isin(zone5))]\n",
        "\n",
        "choices1 = ['zoneI','zoneII','zoneIII','zoneIV','zoneV']\n",
        "df2015['Geo_Zone'] = np.select(conditions1,choices1,default = 'None')\n",
        "df2011['Geo_Zone'] = np.select(conditions1,choices1,default = 'None')\n"
      ],
      "execution_count": 0,
      "outputs": []
    },
    {
      "cell_type": "code",
      "metadata": {
        "id": "iJ0wfCgt4aMa",
        "colab_type": "code",
        "colab": {}
      },
      "source": [
        "conditions = [(df2015['Local Government'].isin(central_values)),\n",
        "               (df2015['Local Government'].isin(northern_values)),\n",
        "                (df2015['Local Government'].isin(southern_values))]\n",
        "      \n",
        "choices = ['Central', 'North','South']\n",
        "df2015['Oyo Zone'] = np.select(conditions, choices, default = 'None')\n",
        "df2011['Oyo Zone'] = np.select(conditions, choices, default = 'None')"
      ],
      "execution_count": 0,
      "outputs": []
    },
    {
      "cell_type": "code",
      "metadata": {
        "id": "hX0bZuu44aMd",
        "colab_type": "code",
        "colab": {},
        "outputId": "0eeb2fdf-dbe6-4b99-be73-c74ddf5755a0"
      },
      "source": [
        "df2015.head(5)"
      ],
      "execution_count": 0,
      "outputs": [
        {
          "output_type": "execute_result",
          "data": {
            "text/html": [
              "<div>\n",
              "<style scoped>\n",
              "    .dataframe tbody tr th:only-of-type {\n",
              "        vertical-align: middle;\n",
              "    }\n",
              "\n",
              "    .dataframe tbody tr th {\n",
              "        vertical-align: top;\n",
              "    }\n",
              "\n",
              "    .dataframe thead th {\n",
              "        text-align: right;\n",
              "    }\n",
              "</style>\n",
              "<table border=\"1\" class=\"dataframe\">\n",
              "  <thead>\n",
              "    <tr style=\"text-align: right;\">\n",
              "      <th></th>\n",
              "      <th>Local Government</th>\n",
              "      <th>ACCORD #Voters</th>\n",
              "      <th>APC #Voters</th>\n",
              "      <th>LP #Voters</th>\n",
              "      <th>PDP #Voters</th>\n",
              "      <th>SDP #Voters</th>\n",
              "      <th>Total # of Voters</th>\n",
              "      <th>AREA POPULATION(2006 CENSUS)</th>\n",
              "      <th>AREA POPULATION(2017 CENSUS)</th>\n",
              "      <th>HEADQUARTERS</th>\n",
              "      <th>DATE OFCREATION</th>\n",
              "      <th>TOTAL NOOF WARDS</th>\n",
              "      <th>LANDMASS(KM2)</th>\n",
              "      <th>Geo_Zone</th>\n",
              "      <th>Oyo Zone</th>\n",
              "    </tr>\n",
              "  </thead>\n",
              "  <tbody>\n",
              "    <tr>\n",
              "      <th>0</th>\n",
              "      <td>AFIJIO</td>\n",
              "      <td>4590</td>\n",
              "      <td>5087</td>\n",
              "      <td>3743</td>\n",
              "      <td>1735</td>\n",
              "      <td>433</td>\n",
              "      <td>15588</td>\n",
              "      <td>134173</td>\n",
              "      <td>185700</td>\n",
              "      <td>Jobele</td>\n",
              "      <td>1989</td>\n",
              "      <td>10</td>\n",
              "      <td>800.000</td>\n",
              "      <td>zoneIV</td>\n",
              "      <td>Central</td>\n",
              "    </tr>\n",
              "    <tr>\n",
              "      <th>1</th>\n",
              "      <td>AKINYELE</td>\n",
              "      <td>4509</td>\n",
              "      <td>5317</td>\n",
              "      <td>3842</td>\n",
              "      <td>3373</td>\n",
              "      <td>776</td>\n",
              "      <td>17817</td>\n",
              "      <td>211359</td>\n",
              "      <td>297600</td>\n",
              "      <td>Moniya</td>\n",
              "      <td>1976</td>\n",
              "      <td>12</td>\n",
              "      <td>575.000</td>\n",
              "      <td>zoneI</td>\n",
              "      <td>Central</td>\n",
              "    </tr>\n",
              "    <tr>\n",
              "      <th>2</th>\n",
              "      <td>ATIBA</td>\n",
              "      <td>3734</td>\n",
              "      <td>10396</td>\n",
              "      <td>7656</td>\n",
              "      <td>1396</td>\n",
              "      <td>587</td>\n",
              "      <td>23769</td>\n",
              "      <td>169702</td>\n",
              "      <td>236400</td>\n",
              "      <td>Ofa-Meta</td>\n",
              "      <td>1996</td>\n",
              "      <td>10</td>\n",
              "      <td>219.753</td>\n",
              "      <td>zoneIV</td>\n",
              "      <td>Central</td>\n",
              "    </tr>\n",
              "    <tr>\n",
              "      <th>3</th>\n",
              "      <td>ATISBO</td>\n",
              "      <td>3257</td>\n",
              "      <td>7132</td>\n",
              "      <td>2862</td>\n",
              "      <td>2339</td>\n",
              "      <td>1156</td>\n",
              "      <td>16746</td>\n",
              "      <td>110792</td>\n",
              "      <td>154500</td>\n",
              "      <td>Tede</td>\n",
              "      <td>1996</td>\n",
              "      <td>10</td>\n",
              "      <td>315.230</td>\n",
              "      <td>zoneII</td>\n",
              "      <td>North</td>\n",
              "    </tr>\n",
              "    <tr>\n",
              "      <th>4</th>\n",
              "      <td>EGBEDA</td>\n",
              "      <td>15811</td>\n",
              "      <td>13495</td>\n",
              "      <td>2097</td>\n",
              "      <td>2625</td>\n",
              "      <td>2625</td>\n",
              "      <td>36653</td>\n",
              "      <td>319388</td>\n",
              "      <td>398500</td>\n",
              "      <td>Egbeda</td>\n",
              "      <td>1989</td>\n",
              "      <td>11</td>\n",
              "      <td>410.000</td>\n",
              "      <td>zoneI</td>\n",
              "      <td>Central</td>\n",
              "    </tr>\n",
              "  </tbody>\n",
              "</table>\n",
              "</div>"
            ],
            "text/plain": [
              "  Local Government  ACCORD #Voters  APC #Voters  LP #Voters  PDP #Voters  \\\n",
              "0  AFIJIO           4590            5087         3743        1735          \n",
              "1  AKINYELE         4509            5317         3842        3373          \n",
              "2  ATIBA            3734            10396        7656        1396          \n",
              "3  ATISBO           3257            7132         2862        2339          \n",
              "4  EGBEDA           15811           13495        2097        2625          \n",
              "\n",
              "   SDP #Voters  Total # of Voters  AREA POPULATION(2006 CENSUS)  \\\n",
              "0  433          15588              134173                         \n",
              "1  776          17817              211359                         \n",
              "2  587          23769              169702                         \n",
              "3  1156         16746              110792                         \n",
              "4  2625         36653              319388                         \n",
              "\n",
              "   AREA POPULATION(2017 CENSUS) HEADQUARTERS DATE OFCREATION  \\\n",
              "0  185700                        Jobele       1989             \n",
              "1  297600                        Moniya       1976             \n",
              "2  236400                        Ofa-Meta     1996             \n",
              "3  154500                        Tede         1996             \n",
              "4  398500                        Egbeda       1989             \n",
              "\n",
              "   TOTAL NOOF WARDS  LANDMASS(KM2) Geo_Zone Oyo Zone  \n",
              "0  10                800.000        zoneIV   Central  \n",
              "1  12                575.000        zoneI    Central  \n",
              "2  10                219.753        zoneIV   Central  \n",
              "3  10                315.230        zoneII   North    \n",
              "4  11                410.000        zoneI    Central  "
            ]
          },
          "metadata": {
            "tags": []
          },
          "execution_count": 24
        }
      ]
    },
    {
      "cell_type": "code",
      "metadata": {
        "id": "X6EjiW9d4aMh",
        "colab_type": "code",
        "colab": {},
        "outputId": "73257f2e-b7c7-4d38-854e-25ac1e7873b0"
      },
      "source": [
        "df2011.head(5)"
      ],
      "execution_count": 0,
      "outputs": [
        {
          "output_type": "execute_result",
          "data": {
            "text/html": [
              "<div>\n",
              "<style scoped>\n",
              "    .dataframe tbody tr th:only-of-type {\n",
              "        vertical-align: middle;\n",
              "    }\n",
              "\n",
              "    .dataframe tbody tr th {\n",
              "        vertical-align: top;\n",
              "    }\n",
              "\n",
              "    .dataframe thead th {\n",
              "        text-align: right;\n",
              "    }\n",
              "</style>\n",
              "<table border=\"1\" class=\"dataframe\">\n",
              "  <thead>\n",
              "    <tr style=\"text-align: right;\">\n",
              "      <th></th>\n",
              "      <th>Local Government</th>\n",
              "      <th>ACCORD #Voters</th>\n",
              "      <th>ACN #Voters</th>\n",
              "      <th>PDP #Voters</th>\n",
              "      <th>Total # of Voters</th>\n",
              "      <th>AREA POPULATION(2006 CENSUS)</th>\n",
              "      <th>AREA POPULATION(2017 CENSUS)</th>\n",
              "      <th>HEADQUARTERS</th>\n",
              "      <th>DATE OFCREATION</th>\n",
              "      <th>TOTAL NOOF WARDS</th>\n",
              "      <th>LANDMASS(KM2)</th>\n",
              "      <th>Geo_Zone</th>\n",
              "      <th>Oyo Zone</th>\n",
              "    </tr>\n",
              "  </thead>\n",
              "  <tbody>\n",
              "    <tr>\n",
              "      <th>0</th>\n",
              "      <td>AFIJIO</td>\n",
              "      <td>4865</td>\n",
              "      <td>8471</td>\n",
              "      <td>6014</td>\n",
              "      <td>19350</td>\n",
              "      <td>134173</td>\n",
              "      <td>185700</td>\n",
              "      <td>Jobele</td>\n",
              "      <td>1989</td>\n",
              "      <td>10</td>\n",
              "      <td>800.000</td>\n",
              "      <td>zoneIV</td>\n",
              "      <td>Central</td>\n",
              "    </tr>\n",
              "    <tr>\n",
              "      <th>1</th>\n",
              "      <td>ATIBA</td>\n",
              "      <td>3590</td>\n",
              "      <td>18513</td>\n",
              "      <td>7565</td>\n",
              "      <td>29668</td>\n",
              "      <td>211359</td>\n",
              "      <td>297600</td>\n",
              "      <td>Moniya</td>\n",
              "      <td>1976</td>\n",
              "      <td>12</td>\n",
              "      <td>575.000</td>\n",
              "      <td>zoneI</td>\n",
              "      <td>Central</td>\n",
              "    </tr>\n",
              "    <tr>\n",
              "      <th>2</th>\n",
              "      <td>ATISBO</td>\n",
              "      <td>1935</td>\n",
              "      <td>7507</td>\n",
              "      <td>6779</td>\n",
              "      <td>16221</td>\n",
              "      <td>169702</td>\n",
              "      <td>236400</td>\n",
              "      <td>Ofa-Meta</td>\n",
              "      <td>1996</td>\n",
              "      <td>10</td>\n",
              "      <td>219.753</td>\n",
              "      <td>zoneIV</td>\n",
              "      <td>Central</td>\n",
              "    </tr>\n",
              "    <tr>\n",
              "      <th>3</th>\n",
              "      <td>IBARAPA NORTH</td>\n",
              "      <td>3539</td>\n",
              "      <td>6602</td>\n",
              "      <td>8884</td>\n",
              "      <td>19025</td>\n",
              "      <td>110792</td>\n",
              "      <td>154500</td>\n",
              "      <td>Tede</td>\n",
              "      <td>1996</td>\n",
              "      <td>10</td>\n",
              "      <td>315.230</td>\n",
              "      <td>zoneII</td>\n",
              "      <td>North</td>\n",
              "    </tr>\n",
              "    <tr>\n",
              "      <th>4</th>\n",
              "      <td>IBARAPA EAST</td>\n",
              "      <td>6375</td>\n",
              "      <td>6086</td>\n",
              "      <td>7950</td>\n",
              "      <td>20411</td>\n",
              "      <td>319388</td>\n",
              "      <td>398500</td>\n",
              "      <td>Egbeda</td>\n",
              "      <td>1989</td>\n",
              "      <td>11</td>\n",
              "      <td>410.000</td>\n",
              "      <td>zoneI</td>\n",
              "      <td>Central</td>\n",
              "    </tr>\n",
              "  </tbody>\n",
              "</table>\n",
              "</div>"
            ],
            "text/plain": [
              "  Local Government  ACCORD #Voters  ACN #Voters  PDP #Voters  \\\n",
              "0  AFIJIO           4865            8471         6014          \n",
              "1  ATIBA            3590            18513        7565          \n",
              "2  ATISBO           1935            7507         6779          \n",
              "3  IBARAPA NORTH    3539            6602         8884          \n",
              "4  IBARAPA EAST     6375            6086         7950          \n",
              "\n",
              "   Total # of Voters  AREA POPULATION(2006 CENSUS)  \\\n",
              "0  19350              134173                         \n",
              "1  29668              211359                         \n",
              "2  16221              169702                         \n",
              "3  19025              110792                         \n",
              "4  20411              319388                         \n",
              "\n",
              "   AREA POPULATION(2017 CENSUS) HEADQUARTERS DATE OFCREATION  \\\n",
              "0  185700                        Jobele       1989             \n",
              "1  297600                        Moniya       1976             \n",
              "2  236400                        Ofa-Meta     1996             \n",
              "3  154500                        Tede         1996             \n",
              "4  398500                        Egbeda       1989             \n",
              "\n",
              "   TOTAL NOOF WARDS  LANDMASS(KM2) Geo_Zone Oyo Zone  \n",
              "0  10                800.000        zoneIV   Central  \n",
              "1  12                575.000        zoneI    Central  \n",
              "2  10                219.753        zoneIV   Central  \n",
              "3  10                315.230        zoneII   North    \n",
              "4  11                410.000        zoneI    Central  "
            ]
          },
          "metadata": {
            "tags": []
          },
          "execution_count": 25
        }
      ]
    },
    {
      "cell_type": "markdown",
      "metadata": {
        "id": "Hu8GJjgN4aMk",
        "colab_type": "text"
      },
      "source": [
        "# DATA VISUALIZATIONS"
      ]
    },
    {
      "cell_type": "code",
      "metadata": {
        "id": "eVqsXsOD4aMk",
        "colab_type": "code",
        "colab": {},
        "outputId": "fa301951-4b59-470a-f174-f484da904c9c"
      },
      "source": [
        "v = {'2011': [df2011['Total # of Voters'].sum()], '2015': [df2015['Total # of Voters'].sum()]}\n",
        "voters = pd.DataFrame(v)\n",
        "voters"
      ],
      "execution_count": 0,
      "outputs": [
        {
          "output_type": "execute_result",
          "data": {
            "text/html": [
              "<div>\n",
              "<style scoped>\n",
              "    .dataframe tbody tr th:only-of-type {\n",
              "        vertical-align: middle;\n",
              "    }\n",
              "\n",
              "    .dataframe tbody tr th {\n",
              "        vertical-align: top;\n",
              "    }\n",
              "\n",
              "    .dataframe thead th {\n",
              "        text-align: right;\n",
              "    }\n",
              "</style>\n",
              "<table border=\"1\" class=\"dataframe\">\n",
              "  <thead>\n",
              "    <tr style=\"text-align: right;\">\n",
              "      <th></th>\n",
              "      <th>2011</th>\n",
              "      <th>2015</th>\n",
              "    </tr>\n",
              "  </thead>\n",
              "  <tbody>\n",
              "    <tr>\n",
              "      <th>0</th>\n",
              "      <td>999026</td>\n",
              "      <td>881743</td>\n",
              "    </tr>\n",
              "  </tbody>\n",
              "</table>\n",
              "</div>"
            ],
            "text/plain": [
              "     2011    2015\n",
              "0  999026  881743"
            ]
          },
          "metadata": {
            "tags": []
          },
          "execution_count": 26
        }
      ]
    },
    {
      "cell_type": "code",
      "metadata": {
        "id": "3SFZ7Hey4aM8",
        "colab_type": "code",
        "colab": {},
        "outputId": "f0634ba8-287c-41cf-fa84-bd92f082e443"
      },
      "source": [
        "voters[['2011','2015']].plot(kind='bar', figsize = (15,10) );\n",
        "plt.xlabel('Year', fontsize = 15  );\n",
        "#plt.xticks(rotation = 0, fontsize = 15);\n",
        "plt.xticks([], [])\n",
        "plt.yticks(fontsize = 15);\n",
        "plt.title(\" 2011 vs 2015 registered voters\", fontsize = 20);\n",
        "plt.ylabel('Voters', fontsize = 20);\n",
        "plt.show();"
      ],
      "execution_count": 0,
      "outputs": [
        {
          "output_type": "display_data",
          "data": {
            "image/png": "[encoded data removed]",
            "text/plain": [
              "<Figure size 1080x720 with 1 Axes>"
            ]
          },
          "metadata": {
            "tags": [],
            "needs_background": "light"
          }
        }
      ]
    },
    {
      "cell_type": "markdown",
      "metadata": {
        "id": "tqAGRpzA4aNC",
        "colab_type": "text"
      },
      "source": [
        "Seems that more voters were registered in 2011 than in 2015"
      ]
    },
    {
      "cell_type": "code",
      "metadata": {
        "id": "D0FIuD0v4aND",
        "colab_type": "code",
        "colab": {},
        "outputId": "b1f41760-1099-4aa7-9004-0939b2dbb961"
      },
      "source": [
        "def gen_colors(df):\n",
        "    y = ['ACCORD #Voters','APC #Voters', 'magenta', 'ACN #Voters','PDP #Voters','LP #Voters','SDP #Voters']\n",
        "    col_d = {'ACCORD #Voters': 'yellow',\n",
        "             'ACN #Voters': 'black',\n",
        "             'PDP #Voters':'green',\n",
        "             'APC #Voters': 'red',\n",
        "             'LP #Voters': 'magenta',\n",
        "             'SDP #Voters': 'blue'}\n",
        "    return [col_d[col] for col in df.columns if col in y]\n",
        "\n",
        "gen_colors(df2015)"
      ],
      "execution_count": 0,
      "outputs": [
        {
          "output_type": "execute_result",
          "data": {
            "text/plain": [
              "['yellow', 'red', 'magenta', 'green', 'blue']"
            ]
          },
          "metadata": {
            "tags": []
          },
          "execution_count": 28
        }
      ]
    },
    {
      "cell_type": "code",
      "metadata": {
        "id": "3SZt4rWZ4aNI",
        "colab_type": "code",
        "colab": {},
        "outputId": "d192bc70-4a51-4e0d-88f6-37c144bb2153"
      },
      "source": [
        "df2011.sort_values('Total # of Voters', ascending=True).plot( kind = 'barh', x = 'Local Government', y = ['ACCORD #Voters', 'ACN #Voters',\n",
        "                                                'PDP #Voters'], figsize =(15,10), stacked = True, color=gen_colors(df2011));\n",
        "plt.xlabel('Local Government', fontsize = 15  );\n",
        "plt.xticks(rotation = 0, fontsize = 15);\n",
        "plt.yticks(fontsize = 15);\n",
        "plt.title(\" 2011 Voters, by Local Government\", fontsize = 20);\n",
        "plt.ylabel('Voters', fontsize = 20);\n",
        "plt.show();\n",
        "\n",
        "\n",
        "df2015.sort_values('Total # of Voters', ascending=True).plot( kind = 'barh', x = 'Local Government', \n",
        "                                                             y = ['ACCORD #Voters','APC #Voters','LP #Voters','PDP #Voters','SDP #Voters'], figsize =(15,10), stacked = True, color=gen_colors(df2015));\n",
        "plt.xlabel('Local Government', fontsize = 15  );\n",
        "plt.xticks(rotation = 0, fontsize = 15);\n",
        "plt.yticks(fontsize = 15);\n",
        "plt.title(\" 2015 Voters, by Local Government\", fontsize = 20);\n",
        "plt.ylabel('Voters', fontsize = 20);\n",
        "plt.show();\n",
        "\n"
      ],
      "execution_count": 0,
      "outputs": [
        {
          "output_type": "display_data",
          "data": {
            "image/png": "[encoded data removed]",
            "text/plain": [
              "<Figure size 1080x720 with 1 Axes>"
            ]
          },
          "metadata": {
            "tags": [],
            "needs_background": "light"
          }
        },
        {
          "output_type": "display_data",
          "data": {
            "image/png": "[encoded data removed]",
            "text/plain": [
              "<Figure size 1080x720 with 1 Axes>"
            ]
          },
          "metadata": {
            "tags": [],
            "needs_background": "light"
          }
        }
      ]
    },
    {
      "cell_type": "markdown",
      "metadata": {
        "id": "0WSK-MFj4aNK",
        "colab_type": "text"
      },
      "source": [
        "- 2015 saw the emergence of Labour Party, APC, and SDP.\n",
        "- For both years, the local gorvernements that have the highest number of registered voters are Ibadan(N,SW*,NE,SE), Egbeda and Ogbomoso North\n",
        "- We can also propose that some of the 2011 PDP and ACN voters ported to APC, LP, ACCORD and SDP\n"
      ]
    },
    {
      "cell_type": "code",
      "metadata": {
        "id": "MSawI2op4aNN",
        "colab_type": "code",
        "colab": {},
        "outputId": "b34800ea-eb0e-41b6-bb86-1e45762af3bc"
      },
      "source": [
        "df2011zones = df2011.groupby('Oyo Zone')[['ACCORD #Voters', 'ACN #Voters', 'PDP #Voters','Total # of Voters']].sum()\n",
        "df2011zones"
      ],
      "execution_count": 0,
      "outputs": [
        {
          "output_type": "execute_result",
          "data": {
            "text/html": [
              "<div>\n",
              "<style scoped>\n",
              "    .dataframe tbody tr th:only-of-type {\n",
              "        vertical-align: middle;\n",
              "    }\n",
              "\n",
              "    .dataframe tbody tr th {\n",
              "        vertical-align: top;\n",
              "    }\n",
              "\n",
              "    .dataframe thead th {\n",
              "        text-align: right;\n",
              "    }\n",
              "</style>\n",
              "<table border=\"1\" class=\"dataframe\">\n",
              "  <thead>\n",
              "    <tr style=\"text-align: right;\">\n",
              "      <th></th>\n",
              "      <th>ACCORD #Voters</th>\n",
              "      <th>ACN #Voters</th>\n",
              "      <th>PDP #Voters</th>\n",
              "      <th>Total # of Voters</th>\n",
              "    </tr>\n",
              "    <tr>\n",
              "      <th>Oyo Zone</th>\n",
              "      <th></th>\n",
              "      <th></th>\n",
              "      <th></th>\n",
              "      <th></th>\n",
              "    </tr>\n",
              "  </thead>\n",
              "  <tbody>\n",
              "    <tr>\n",
              "      <th>Central</th>\n",
              "      <td>58882</td>\n",
              "      <td>94929</td>\n",
              "      <td>95002</td>\n",
              "      <td>248813</td>\n",
              "    </tr>\n",
              "    <tr>\n",
              "      <th>North</th>\n",
              "      <td>116882</td>\n",
              "      <td>156003</td>\n",
              "      <td>174383</td>\n",
              "      <td>447268</td>\n",
              "    </tr>\n",
              "    <tr>\n",
              "      <th>South</th>\n",
              "      <td>81951</td>\n",
              "      <td>122540</td>\n",
              "      <td>98454</td>\n",
              "      <td>302945</td>\n",
              "    </tr>\n",
              "  </tbody>\n",
              "</table>\n",
              "</div>"
            ],
            "text/plain": [
              "          ACCORD #Voters  ACN #Voters  PDP #Voters  Total # of Voters\n",
              "Oyo Zone                                                             \n",
              "Central   58882           94929        95002        248813           \n",
              "North     116882          156003       174383       447268           \n",
              "South     81951           122540       98454        302945           "
            ]
          },
          "metadata": {
            "tags": []
          },
          "execution_count": 31
        }
      ]
    },
    {
      "cell_type": "code",
      "metadata": {
        "id": "ew6ib5934aNT",
        "colab_type": "code",
        "colab": {},
        "outputId": "53f1b605-13c9-468a-9937-e28dc83b99d8"
      },
      "source": [
        "df2015zones = df2015.groupby('Oyo Zone')[['ACCORD #Voters', 'APC #Voters', 'LP #Voters',\n",
        "       'PDP #Voters', 'SDP #Voters','Total # of Voters']].sum()\n",
        "df2015zones"
      ],
      "execution_count": 0,
      "outputs": [
        {
          "output_type": "execute_result",
          "data": {
            "text/html": [
              "<div>\n",
              "<style scoped>\n",
              "    .dataframe tbody tr th:only-of-type {\n",
              "        vertical-align: middle;\n",
              "    }\n",
              "\n",
              "    .dataframe tbody tr th {\n",
              "        vertical-align: top;\n",
              "    }\n",
              "\n",
              "    .dataframe thead th {\n",
              "        text-align: right;\n",
              "    }\n",
              "</style>\n",
              "<table border=\"1\" class=\"dataframe\">\n",
              "  <thead>\n",
              "    <tr style=\"text-align: right;\">\n",
              "      <th></th>\n",
              "      <th>ACCORD #Voters</th>\n",
              "      <th>APC #Voters</th>\n",
              "      <th>LP #Voters</th>\n",
              "      <th>PDP #Voters</th>\n",
              "      <th>SDP #Voters</th>\n",
              "      <th>Total # of Voters</th>\n",
              "    </tr>\n",
              "    <tr>\n",
              "      <th>Oyo Zone</th>\n",
              "      <th></th>\n",
              "      <th></th>\n",
              "      <th></th>\n",
              "      <th></th>\n",
              "      <th></th>\n",
              "      <th></th>\n",
              "    </tr>\n",
              "  </thead>\n",
              "  <tbody>\n",
              "    <tr>\n",
              "      <th>Central</th>\n",
              "      <td>80411</td>\n",
              "      <td>94588</td>\n",
              "      <td>44258</td>\n",
              "      <td>21602</td>\n",
              "      <td>10603</td>\n",
              "      <td>251462</td>\n",
              "    </tr>\n",
              "    <tr>\n",
              "      <th>North</th>\n",
              "      <td>49475</td>\n",
              "      <td>101586</td>\n",
              "      <td>96346</td>\n",
              "      <td>33931</td>\n",
              "      <td>13499</td>\n",
              "      <td>294837</td>\n",
              "    </tr>\n",
              "    <tr>\n",
              "      <th>South</th>\n",
              "      <td>114440</td>\n",
              "      <td>124086</td>\n",
              "      <td>43205</td>\n",
              "      <td>24381</td>\n",
              "      <td>29332</td>\n",
              "      <td>335444</td>\n",
              "    </tr>\n",
              "  </tbody>\n",
              "</table>\n",
              "</div>"
            ],
            "text/plain": [
              "          ACCORD #Voters  APC #Voters  LP #Voters  PDP #Voters  SDP #Voters  \\\n",
              "Oyo Zone                                                                      \n",
              "Central   80411           94588        44258       21602        10603         \n",
              "North     49475           101586       96346       33931        13499         \n",
              "South     114440          124086       43205       24381        29332         \n",
              "\n",
              "          Total # of Voters  \n",
              "Oyo Zone                     \n",
              "Central   251462             \n",
              "North     294837             \n",
              "South     335444             "
            ]
          },
          "metadata": {
            "tags": []
          },
          "execution_count": 32
        }
      ]
    },
    {
      "cell_type": "code",
      "metadata": {
        "id": "fNXl-WFe4aNc",
        "colab_type": "code",
        "colab": {},
        "outputId": "8df5341a-62b5-4c72-d80b-c8dc6ae647bb"
      },
      "source": [
        "df2015geozones = df2015.groupby('Geo_Zone')[['ACCORD #Voters', 'APC #Voters', 'LP #Voters',\n",
        "       'PDP #Voters', 'SDP #Voters','Total # of Voters']].sum()\n",
        "df2015geozones"
      ],
      "execution_count": 0,
      "outputs": [
        {
          "output_type": "execute_result",
          "data": {
            "text/html": [
              "<div>\n",
              "<style scoped>\n",
              "    .dataframe tbody tr th:only-of-type {\n",
              "        vertical-align: middle;\n",
              "    }\n",
              "\n",
              "    .dataframe tbody tr th {\n",
              "        vertical-align: top;\n",
              "    }\n",
              "\n",
              "    .dataframe thead th {\n",
              "        text-align: right;\n",
              "    }\n",
              "</style>\n",
              "<table border=\"1\" class=\"dataframe\">\n",
              "  <thead>\n",
              "    <tr style=\"text-align: right;\">\n",
              "      <th></th>\n",
              "      <th>ACCORD #Voters</th>\n",
              "      <th>APC #Voters</th>\n",
              "      <th>LP #Voters</th>\n",
              "      <th>PDP #Voters</th>\n",
              "      <th>SDP #Voters</th>\n",
              "      <th>Total # of Voters</th>\n",
              "    </tr>\n",
              "    <tr>\n",
              "      <th>Geo_Zone</th>\n",
              "      <th></th>\n",
              "      <th></th>\n",
              "      <th></th>\n",
              "      <th></th>\n",
              "      <th></th>\n",
              "      <th></th>\n",
              "    </tr>\n",
              "  </thead>\n",
              "  <tbody>\n",
              "    <tr>\n",
              "      <th>zoneI</th>\n",
              "      <td>149156</td>\n",
              "      <td>155157</td>\n",
              "      <td>46637</td>\n",
              "      <td>27549</td>\n",
              "      <td>31764</td>\n",
              "      <td>410263</td>\n",
              "    </tr>\n",
              "    <tr>\n",
              "      <th>zoneII</th>\n",
              "      <td>41391</td>\n",
              "      <td>87254</td>\n",
              "      <td>38442</td>\n",
              "      <td>26856</td>\n",
              "      <td>10095</td>\n",
              "      <td>204038</td>\n",
              "    </tr>\n",
              "    <tr>\n",
              "      <th>zoneIII</th>\n",
              "      <td>15305</td>\n",
              "      <td>24628</td>\n",
              "      <td>73553</td>\n",
              "      <td>10498</td>\n",
              "      <td>4457</td>\n",
              "      <td>128441</td>\n",
              "    </tr>\n",
              "    <tr>\n",
              "      <th>zoneIV</th>\n",
              "      <td>22661</td>\n",
              "      <td>35857</td>\n",
              "      <td>17935</td>\n",
              "      <td>5940</td>\n",
              "      <td>2495</td>\n",
              "      <td>84888</td>\n",
              "    </tr>\n",
              "    <tr>\n",
              "      <th>zoneV</th>\n",
              "      <td>15813</td>\n",
              "      <td>17364</td>\n",
              "      <td>7242</td>\n",
              "      <td>9071</td>\n",
              "      <td>4623</td>\n",
              "      <td>54113</td>\n",
              "    </tr>\n",
              "  </tbody>\n",
              "</table>\n",
              "</div>"
            ],
            "text/plain": [
              "          ACCORD #Voters  APC #Voters  LP #Voters  PDP #Voters  SDP #Voters  \\\n",
              "Geo_Zone                                                                      \n",
              "zoneI     149156          155157       46637       27549        31764         \n",
              "zoneII    41391           87254        38442       26856        10095         \n",
              "zoneIII   15305           24628        73553       10498        4457          \n",
              "zoneIV    22661           35857        17935       5940         2495          \n",
              "zoneV     15813           17364        7242        9071         4623          \n",
              "\n",
              "          Total # of Voters  \n",
              "Geo_Zone                     \n",
              "zoneI     410263             \n",
              "zoneII    204038             \n",
              "zoneIII   128441             \n",
              "zoneIV    84888              \n",
              "zoneV     54113              "
            ]
          },
          "metadata": {
            "tags": []
          },
          "execution_count": 33
        }
      ]
    },
    {
      "cell_type": "code",
      "metadata": {
        "id": "JEMVzVqB4aNl",
        "colab_type": "code",
        "colab": {},
        "outputId": "b6785708-f1b9-4ad2-a501-6a5a56108f3b"
      },
      "source": [
        "df2011geozones = df2011.groupby('Geo_Zone')[['ACCORD #Voters', 'ACN #Voters','PDP #Voters','Total # of Voters']].sum()\n",
        "df2011geozones"
      ],
      "execution_count": 0,
      "outputs": [
        {
          "output_type": "execute_result",
          "data": {
            "text/html": [
              "<div>\n",
              "<style scoped>\n",
              "    .dataframe tbody tr th:only-of-type {\n",
              "        vertical-align: middle;\n",
              "    }\n",
              "\n",
              "    .dataframe tbody tr th {\n",
              "        vertical-align: top;\n",
              "    }\n",
              "\n",
              "    .dataframe thead th {\n",
              "        text-align: right;\n",
              "    }\n",
              "</style>\n",
              "<table border=\"1\" class=\"dataframe\">\n",
              "  <thead>\n",
              "    <tr style=\"text-align: right;\">\n",
              "      <th></th>\n",
              "      <th>ACCORD #Voters</th>\n",
              "      <th>ACN #Voters</th>\n",
              "      <th>PDP #Voters</th>\n",
              "      <th>Total # of Voters</th>\n",
              "    </tr>\n",
              "    <tr>\n",
              "      <th>Geo_Zone</th>\n",
              "      <th></th>\n",
              "      <th></th>\n",
              "      <th></th>\n",
              "      <th></th>\n",
              "    </tr>\n",
              "  </thead>\n",
              "  <tbody>\n",
              "    <tr>\n",
              "      <th>zoneI</th>\n",
              "      <td>59930</td>\n",
              "      <td>112247</td>\n",
              "      <td>103587</td>\n",
              "      <td>275764</td>\n",
              "    </tr>\n",
              "    <tr>\n",
              "      <th>zoneII</th>\n",
              "      <td>93148</td>\n",
              "      <td>104078</td>\n",
              "      <td>139669</td>\n",
              "      <td>336895</td>\n",
              "    </tr>\n",
              "    <tr>\n",
              "      <th>zoneIII</th>\n",
              "      <td>24976</td>\n",
              "      <td>55298</td>\n",
              "      <td>42588</td>\n",
              "      <td>122862</td>\n",
              "    </tr>\n",
              "    <tr>\n",
              "      <th>zoneIV</th>\n",
              "      <td>30403</td>\n",
              "      <td>48390</td>\n",
              "      <td>32538</td>\n",
              "      <td>111331</td>\n",
              "    </tr>\n",
              "    <tr>\n",
              "      <th>zoneV</th>\n",
              "      <td>49258</td>\n",
              "      <td>53459</td>\n",
              "      <td>49457</td>\n",
              "      <td>152174</td>\n",
              "    </tr>\n",
              "  </tbody>\n",
              "</table>\n",
              "</div>"
            ],
            "text/plain": [
              "          ACCORD #Voters  ACN #Voters  PDP #Voters  Total # of Voters\n",
              "Geo_Zone                                                             \n",
              "zoneI     59930           112247       103587       275764           \n",
              "zoneII    93148           104078       139669       336895           \n",
              "zoneIII   24976           55298        42588        122862           \n",
              "zoneIV    30403           48390        32538        111331           \n",
              "zoneV     49258           53459        49457        152174           "
            ]
          },
          "metadata": {
            "tags": []
          },
          "execution_count": 34
        }
      ]
    },
    {
      "cell_type": "code",
      "metadata": {
        "id": "Mbo6HZzU4aNo",
        "colab_type": "code",
        "colab": {},
        "outputId": "9222e1bc-2feb-4917-b2f6-a686898e7dfa"
      },
      "source": [
        "\n",
        "\n",
        "df2011zones.plot( kind = 'barh', y = ['ACCORD #Voters', 'ACN #Voters','PDP #Voters'],\n",
        "                 color=gen_colors(df2011), figsize =(15,5), stacked = True);\n",
        "#color = ['blue','violet','red'] color = ['blue','green','yellow','red','orange']\n",
        "plt.xlabel('Local Government', fontsize = 15  );\n",
        "plt.xticks(rotation = 0, fontsize = 15);\n",
        "plt.yticks(fontsize = 15);\n",
        "plt.legend(loc='best', bbox_to_anchor=(0.5, 0., 0.5, 0.5))\n",
        "plt.title(\" 2011 Voters, by Senatorial Zone\", fontsize = 20);\n",
        "plt.ylabel('Voters', fontsize = 20);\n",
        "plt.show();\n",
        "\n",
        "df2015zones.plot( kind = 'barh', y = ['ACCORD #Voters', 'APC #Voters', 'LP #Voters',\n",
        "       'PDP #Voters', 'SDP #Voters'],color=gen_colors(df2015)\n",
        "             , figsize =(15,5), stacked = True);\n",
        "plt.xlabel('Local Government', fontsize = 15  );\n",
        "plt.xticks(rotation = 0, fontsize = 15);\n",
        "plt.yticks(fontsize = 15);\n",
        "plt.title(\" 2015 Voters, by Senatorial Zones\", fontsize = 20);\n",
        "plt.ylabel('Voters', fontsize = 20);\n",
        "plt.show();\n",
        "\n",
        "\n",
        "df2011geozones.plot( kind = 'barh', y = ['ACCORD #Voters', 'ACN #Voters','PDP #Voters'],\n",
        "                color=gen_colors(df2011), figsize =(15,5), stacked = True);\n",
        "plt.xlabel('Local Government', fontsize = 15  );\n",
        "plt.xticks(rotation = 0, fontsize = 15);\n",
        "plt.yticks(fontsize = 15);\n",
        "plt.legend(loc='best', bbox_to_anchor=(0.5, 0., 0.5, 0.5))\n",
        "plt.title(\" 2011 Voters, by Geographical Zones\", fontsize = 20);\n",
        "plt.ylabel('Voters', fontsize = 20);\n",
        "plt.show();\n",
        "\n",
        "df2015geozones.plot( kind = 'barh', y = ['ACCORD #Voters', 'APC #Voters', 'LP #Voters',\n",
        "       'PDP #Voters', 'SDP #Voters'],color=gen_colors(df2015), figsize =(15,5), stacked = True);\n",
        "plt.xlabel('Local Government', fontsize = 15  );\n",
        "plt.xticks(rotation = 0, fontsize = 15);\n",
        "plt.yticks(fontsize = 15);\n",
        "plt.title(\" 2015 Voters, by Geographical Zones\", fontsize = 20);\n",
        "plt.ylabel('Voters', fontsize = 20);\n",
        "plt.show();\n",
        "\n",
        "\n"
      ],
      "execution_count": 0,
      "outputs": [
        {
          "output_type": "display_data",
          "data": {
            "image/png": "[encoded data removed]",
            "text/plain": [
              "<Figure size 1080x360 with 1 Axes>"
            ]
          },
          "metadata": {
            "tags": [],
            "needs_background": "light"
          }
        },
        {
          "output_type": "display_data",
          "data": {
            "image/png": "[encoded data removed]",
            "text/plain": [
              "<Figure size 1080x360 with 1 Axes>"
            ]
          },
          "metadata": {
            "tags": [],
            "needs_background": "light"
          }
        },
        {
          "output_type": "display_data",
          "data": {
            "image/png": "[encoded data removed]",
            "text/plain": [
              "<Figure size 1080x360 with 1 Axes>"
            ]
          },
          "metadata": {
            "tags": [],
            "needs_background": "light"
          }
        },
        {
          "output_type": "display_data",
          "data": {
            "image/png": "[encoded data removed]",
            "text/plain": [
              "<Figure size 1080x360 with 1 Axes>"
            ]
          },
          "metadata": {
            "tags": [],
            "needs_background": "light"
          }
        }
      ]
    },
    {
      "cell_type": "markdown",
      "metadata": {
        "id": "nMyhYFDJ4aNr",
        "colab_type": "text"
      },
      "source": [
        "\n",
        "                            \n",
        "The 2011 voter pattern grouped by Senatorial Zones shows:\n",
        "\n",
        "\n",
        "                            - Southern zones votes are split between ACCORD and ACN\n",
        "                            - Northern zones voted PDP more than any other zone\n",
        "                            - Central zones voted ACN more than anyother party\n",
        "                            \n",
        "                            \n",
        "2015 voter pattern grouped by Senatorial Zones shows shows:\n",
        "\n",
        "\n",
        "                            - Southern Zones are split between Accord and APC\n",
        "                            - Northern Zones are split between APC and LP\n",
        "                            - Central Zones voted APC more than any other party\n",
        "                            - Northern Zone had the higest PDP voters\n",
        "                            \n",
        "                             \n",
        " 2011 Voters grouped by Geo Zones:\n",
        " \n",
        "                            - Zone 1 was split between Accord and ACN\n",
        "                            - Zone 2 was split between ACN and PDP\n",
        "                            - Zone 3 was PDP\n",
        "                            - Zone 4 was ACN \n",
        "                            - Zone 5 PDP\n",
        " \n",
        " \n",
        "2015 Voters grouped Geo Zones: \n",
        "\n",
        "                            - Zone 1 was split between Accord and APC\n",
        "                            - Zone 2 was APC\n",
        "                            - Zone 3 was Labour party\n",
        "                            - Zone 4 was APC\n",
        "                            - Zone 5 was split between Accord and APC "
      ]
    }
  ]
}